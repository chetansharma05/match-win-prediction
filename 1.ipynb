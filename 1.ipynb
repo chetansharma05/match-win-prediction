{
 "cells": [
  {
   "cell_type": "code",
   "execution_count": 1,
   "id": "9a710cbf",
   "metadata": {},
   "outputs": [],
   "source": [
    "import pandas as pd \n",
    "import numpy as np\n",
    "import matplotlib.pyplot as plt\n",
    "import seaborn as sas"
   ]
  },
  {
   "cell_type": "code",
   "execution_count": 2,
   "id": "76bab4b3",
   "metadata": {},
   "outputs": [],
   "source": [
    "data = pd.read_excel(\"sportsdata.xlsx\",sheet_name=\"data\")"
   ]
  },
  {
   "cell_type": "code",
   "execution_count": 3,
   "id": "e34d2131",
   "metadata": {},
   "outputs": [
    {
     "data": {
      "text/html": [
       "<div>\n",
       "<style scoped>\n",
       "    .dataframe tbody tr th:only-of-type {\n",
       "        vertical-align: middle;\n",
       "    }\n",
       "\n",
       "    .dataframe tbody tr th {\n",
       "        vertical-align: top;\n",
       "    }\n",
       "\n",
       "    .dataframe thead th {\n",
       "        text-align: right;\n",
       "    }\n",
       "</style>\n",
       "<table border=\"1\" class=\"dataframe\">\n",
       "  <thead>\n",
       "    <tr style=\"text-align: right;\">\n",
       "      <th></th>\n",
       "      <th>Game_number</th>\n",
       "      <th>Result</th>\n",
       "      <th>Avg_team_Age</th>\n",
       "      <th>Match_light_type</th>\n",
       "      <th>Match_format</th>\n",
       "      <th>Bowlers_in_team</th>\n",
       "      <th>Wicket_keeper_in_team</th>\n",
       "      <th>All_rounder_in_team</th>\n",
       "      <th>First_selection</th>\n",
       "      <th>Opponent</th>\n",
       "      <th>...</th>\n",
       "      <th>Max_run_scored_1over</th>\n",
       "      <th>Max_wicket_taken_1over</th>\n",
       "      <th>Extra_bowls_bowled</th>\n",
       "      <th>Min_run_given_1over</th>\n",
       "      <th>Min_run_scored_1over</th>\n",
       "      <th>Max_run_given_1over</th>\n",
       "      <th>extra_bowls_opponent</th>\n",
       "      <th>player_highest_run</th>\n",
       "      <th>Players_scored_zero</th>\n",
       "      <th>player_highest_wicket</th>\n",
       "    </tr>\n",
       "  </thead>\n",
       "  <tbody>\n",
       "    <tr>\n",
       "      <th>0</th>\n",
       "      <td>Game_1</td>\n",
       "      <td>Loss</td>\n",
       "      <td>18.0</td>\n",
       "      <td>Day</td>\n",
       "      <td>ODI</td>\n",
       "      <td>3.0</td>\n",
       "      <td>1</td>\n",
       "      <td>3.0</td>\n",
       "      <td>Bowling</td>\n",
       "      <td>Srilanka</td>\n",
       "      <td>...</td>\n",
       "      <td>13.0</td>\n",
       "      <td>3</td>\n",
       "      <td>0.0</td>\n",
       "      <td>2</td>\n",
       "      <td>3.0</td>\n",
       "      <td>6.0</td>\n",
       "      <td>0</td>\n",
       "      <td>54.0</td>\n",
       "      <td>3</td>\n",
       "      <td>1</td>\n",
       "    </tr>\n",
       "    <tr>\n",
       "      <th>1</th>\n",
       "      <td>Game_2</td>\n",
       "      <td>Win</td>\n",
       "      <td>24.0</td>\n",
       "      <td>Day</td>\n",
       "      <td>T20</td>\n",
       "      <td>3.0</td>\n",
       "      <td>1</td>\n",
       "      <td>4.0</td>\n",
       "      <td>Batting</td>\n",
       "      <td>Zimbabwe</td>\n",
       "      <td>...</td>\n",
       "      <td>12.0</td>\n",
       "      <td>1</td>\n",
       "      <td>0.0</td>\n",
       "      <td>0</td>\n",
       "      <td>3.0</td>\n",
       "      <td>6.0</td>\n",
       "      <td>0</td>\n",
       "      <td>69.0</td>\n",
       "      <td>2</td>\n",
       "      <td>1</td>\n",
       "    </tr>\n",
       "    <tr>\n",
       "      <th>2</th>\n",
       "      <td>Game_3</td>\n",
       "      <td>Loss</td>\n",
       "      <td>24.0</td>\n",
       "      <td>Day and Night</td>\n",
       "      <td>T20</td>\n",
       "      <td>3.0</td>\n",
       "      <td>1</td>\n",
       "      <td>2.0</td>\n",
       "      <td>Bowling</td>\n",
       "      <td>Zimbabwe</td>\n",
       "      <td>...</td>\n",
       "      <td>14.0</td>\n",
       "      <td>4</td>\n",
       "      <td>0.0</td>\n",
       "      <td>0</td>\n",
       "      <td>3.0</td>\n",
       "      <td>6.0</td>\n",
       "      <td>0</td>\n",
       "      <td>69.0</td>\n",
       "      <td>3</td>\n",
       "      <td>1</td>\n",
       "    </tr>\n",
       "    <tr>\n",
       "      <th>3</th>\n",
       "      <td>Game_4</td>\n",
       "      <td>Win</td>\n",
       "      <td>24.0</td>\n",
       "      <td>NaN</td>\n",
       "      <td>ODI</td>\n",
       "      <td>2.0</td>\n",
       "      <td>1</td>\n",
       "      <td>2.0</td>\n",
       "      <td>Bowling</td>\n",
       "      <td>Kenya</td>\n",
       "      <td>...</td>\n",
       "      <td>15.0</td>\n",
       "      <td>4</td>\n",
       "      <td>0.0</td>\n",
       "      <td>2</td>\n",
       "      <td>3.0</td>\n",
       "      <td>6.0</td>\n",
       "      <td>0</td>\n",
       "      <td>73.0</td>\n",
       "      <td>3</td>\n",
       "      <td>1</td>\n",
       "    </tr>\n",
       "    <tr>\n",
       "      <th>4</th>\n",
       "      <td>Game_5</td>\n",
       "      <td>Loss</td>\n",
       "      <td>24.0</td>\n",
       "      <td>Night</td>\n",
       "      <td>ODI</td>\n",
       "      <td>1.0</td>\n",
       "      <td>1</td>\n",
       "      <td>3.0</td>\n",
       "      <td>Bowling</td>\n",
       "      <td>Srilanka</td>\n",
       "      <td>...</td>\n",
       "      <td>12.0</td>\n",
       "      <td>4</td>\n",
       "      <td>0.0</td>\n",
       "      <td>0</td>\n",
       "      <td>3.0</td>\n",
       "      <td>6.0</td>\n",
       "      <td>0</td>\n",
       "      <td>80.0</td>\n",
       "      <td>3</td>\n",
       "      <td>1</td>\n",
       "    </tr>\n",
       "  </tbody>\n",
       "</table>\n",
       "<p>5 rows × 23 columns</p>\n",
       "</div>"
      ],
      "text/plain": [
       "  Game_number Result  Avg_team_Age Match_light_type Match_format  \\\n",
       "0      Game_1   Loss          18.0              Day          ODI   \n",
       "1      Game_2    Win          24.0              Day          T20   \n",
       "2      Game_3   Loss          24.0    Day and Night          T20   \n",
       "3      Game_4    Win          24.0              NaN          ODI   \n",
       "4      Game_5   Loss          24.0            Night          ODI   \n",
       "\n",
       "   Bowlers_in_team  Wicket_keeper_in_team  All_rounder_in_team  \\\n",
       "0              3.0                      1                  3.0   \n",
       "1              3.0                      1                  4.0   \n",
       "2              3.0                      1                  2.0   \n",
       "3              2.0                      1                  2.0   \n",
       "4              1.0                      1                  3.0   \n",
       "\n",
       "  First_selection  Opponent  ... Max_run_scored_1over  Max_wicket_taken_1over  \\\n",
       "0         Bowling  Srilanka  ...                 13.0                       3   \n",
       "1         Batting  Zimbabwe  ...                 12.0                       1   \n",
       "2         Bowling  Zimbabwe  ...                 14.0                       4   \n",
       "3         Bowling     Kenya  ...                 15.0                       4   \n",
       "4         Bowling  Srilanka  ...                 12.0                       4   \n",
       "\n",
       "  Extra_bowls_bowled  Min_run_given_1over  Min_run_scored_1over  \\\n",
       "0                0.0                    2                   3.0   \n",
       "1                0.0                    0                   3.0   \n",
       "2                0.0                    0                   3.0   \n",
       "3                0.0                    2                   3.0   \n",
       "4                0.0                    0                   3.0   \n",
       "\n",
       "   Max_run_given_1over  extra_bowls_opponent  player_highest_run  \\\n",
       "0                  6.0                     0                54.0   \n",
       "1                  6.0                     0                69.0   \n",
       "2                  6.0                     0                69.0   \n",
       "3                  6.0                     0                73.0   \n",
       "4                  6.0                     0                80.0   \n",
       "\n",
       "   Players_scored_zero  player_highest_wicket  \n",
       "0                    3                      1  \n",
       "1                    2                      1  \n",
       "2                    3                      1  \n",
       "3                    3                      1  \n",
       "4                    3                      1  \n",
       "\n",
       "[5 rows x 23 columns]"
      ]
     },
     "execution_count": 3,
     "metadata": {},
     "output_type": "execute_result"
    }
   ],
   "source": [
    "data.head()"
   ]
  },
  {
   "cell_type": "code",
   "execution_count": 4,
   "id": "20855b7d",
   "metadata": {},
   "outputs": [
    {
     "data": {
      "text/plain": [
       "(2930, 23)"
      ]
     },
     "execution_count": 4,
     "metadata": {},
     "output_type": "execute_result"
    }
   ],
   "source": [
    "data.shape"
   ]
  },
  {
   "cell_type": "code",
   "execution_count": 5,
   "id": "afbcf46b",
   "metadata": {},
   "outputs": [
    {
     "name": "stdout",
     "output_type": "stream",
     "text": [
      "<class 'pandas.core.frame.DataFrame'>\n",
      "RangeIndex: 2930 entries, 0 to 2929\n",
      "Data columns (total 23 columns):\n",
      " #   Column                  Non-Null Count  Dtype  \n",
      "---  ------                  --------------  -----  \n",
      " 0   Game_number             2930 non-null   object \n",
      " 1   Result                  2930 non-null   object \n",
      " 2   Avg_team_Age            2833 non-null   float64\n",
      " 3   Match_light_type        2878 non-null   object \n",
      " 4   Match_format            2860 non-null   object \n",
      " 5   Bowlers_in_team         2848 non-null   float64\n",
      " 6   Wicket_keeper_in_team   2930 non-null   int64  \n",
      " 7   All_rounder_in_team     2890 non-null   float64\n",
      " 8   First_selection         2871 non-null   object \n",
      " 9   Opponent                2894 non-null   object \n",
      " 10  Season                  2868 non-null   object \n",
      " 11  Audience_number         2849 non-null   float64\n",
      " 12  Offshore                2866 non-null   object \n",
      " 13  Max_run_scored_1over    2902 non-null   float64\n",
      " 14  Max_wicket_taken_1over  2930 non-null   int64  \n",
      " 15  Extra_bowls_bowled      2901 non-null   float64\n",
      " 16  Min_run_given_1over     2930 non-null   int64  \n",
      " 17  Min_run_scored_1over    2903 non-null   float64\n",
      " 18  Max_run_given_1over     2896 non-null   float64\n",
      " 19  extra_bowls_opponent    2930 non-null   int64  \n",
      " 20  player_highest_run      2902 non-null   float64\n",
      " 21  Players_scored_zero     2930 non-null   int64  \n",
      " 22  player_highest_wicket   2930 non-null   int64  \n",
      "dtypes: float64(9), int64(6), object(8)\n",
      "memory usage: 526.6+ KB\n"
     ]
    }
   ],
   "source": [
    "data.info()"
   ]
  },
  {
   "cell_type": "code",
   "execution_count": 6,
   "id": "6b0270c0",
   "metadata": {},
   "outputs": [
    {
     "data": {
      "text/plain": [
       "Game_number                0\n",
       "Result                     0\n",
       "Avg_team_Age              97\n",
       "Match_light_type          52\n",
       "Match_format              70\n",
       "Bowlers_in_team           82\n",
       "Wicket_keeper_in_team      0\n",
       "All_rounder_in_team       40\n",
       "First_selection           59\n",
       "Opponent                  36\n",
       "Season                    62\n",
       "Audience_number           81\n",
       "Offshore                  64\n",
       "Max_run_scored_1over      28\n",
       "Max_wicket_taken_1over     0\n",
       "Extra_bowls_bowled        29\n",
       "Min_run_given_1over        0\n",
       "Min_run_scored_1over      27\n",
       "Max_run_given_1over       34\n",
       "extra_bowls_opponent       0\n",
       "player_highest_run        28\n",
       "Players_scored_zero        0\n",
       "player_highest_wicket      0\n",
       "dtype: int64"
      ]
     },
     "execution_count": 6,
     "metadata": {},
     "output_type": "execute_result"
    }
   ],
   "source": [
    "data.isnull().sum()"
   ]
  },
  {
   "cell_type": "code",
   "execution_count": 7,
   "id": "d1ce4c53",
   "metadata": {},
   "outputs": [
    {
     "data": {
      "text/plain": [
       "789"
      ]
     },
     "execution_count": 7,
     "metadata": {},
     "output_type": "execute_result"
    }
   ],
   "source": [
    "data.isnull().sum().sum()"
   ]
  },
  {
   "cell_type": "markdown",
   "id": "69f01ae5",
   "metadata": {},
   "source": [
    "# Missing value treatment"
   ]
  },
  {
   "cell_type": "markdown",
   "id": "9ec29c3a",
   "metadata": {},
   "source": [
    "# 1)Age"
   ]
  },
  {
   "cell_type": "code",
   "execution_count": 8,
   "id": "77318494",
   "metadata": {},
   "outputs": [
    {
     "name": "stdout",
     "output_type": "stream",
     "text": [
      "mean age 29.242852100247088\n",
      "mode age 0    30.0\n",
      "Name: Avg_team_Age, dtype: float64\n",
      "median 30.0\n"
     ]
    }
   ],
   "source": [
    "print(\"mean age\",data[\"Avg_team_Age\"].mean())\n",
    "print(\"mode age\",data[\"Avg_team_Age\"].mode())\n",
    "print(\"median\",data[\"Avg_team_Age\"].median())"
   ]
  },
  {
   "cell_type": "code",
   "execution_count": 9,
   "id": "b71487f6",
   "metadata": {},
   "outputs": [],
   "source": [
    "data[\"Avg_team_Age\"] = data[\"Avg_team_Age\"].fillna(data[\"Avg_team_Age\"].median())"
   ]
  },
  {
   "cell_type": "markdown",
   "id": "c39d6892",
   "metadata": {},
   "source": [
    "# 2) Match type"
   ]
  },
  {
   "cell_type": "code",
   "execution_count": 10,
   "id": "1773b927",
   "metadata": {},
   "outputs": [
    {
     "data": {
      "text/plain": [
       "Day              2041\n",
       "Day and Night     541\n",
       "Night             296\n",
       "Name: Match_light_type, dtype: int64"
      ]
     },
     "execution_count": 10,
     "metadata": {},
     "output_type": "execute_result"
    }
   ],
   "source": [
    "pd.value_counts(data[\"Match_light_type\"])"
   ]
  },
  {
   "cell_type": "code",
   "execution_count": 11,
   "id": "ecfe7d2f",
   "metadata": {},
   "outputs": [],
   "source": [
    "data[\"Match_light_type\"] = data[\"Match_light_type\"].fillna(\"NaN\")"
   ]
  },
  {
   "cell_type": "code",
   "execution_count": 12,
   "id": "f4107355",
   "metadata": {},
   "outputs": [
    {
     "data": {
      "text/plain": [
       "Day              2041\n",
       "Day and Night     541\n",
       "Night             296\n",
       "NaN                52\n",
       "Name: Match_light_type, dtype: int64"
      ]
     },
     "execution_count": 12,
     "metadata": {},
     "output_type": "execute_result"
    }
   ],
   "source": [
    "pd.value_counts(data[\"Match_light_type\"])"
   ]
  },
  {
   "cell_type": "markdown",
   "id": "3263b4fd",
   "metadata": {},
   "source": [
    "# 3)Match_format"
   ]
  },
  {
   "cell_type": "code",
   "execution_count": 13,
   "id": "5726fd63",
   "metadata": {},
   "outputs": [
    {
     "data": {
      "text/plain": [
       "ODI     1865\n",
       "T20      870\n",
       "Test     125\n",
       "Name: Match_format, dtype: int64"
      ]
     },
     "execution_count": 13,
     "metadata": {},
     "output_type": "execute_result"
    }
   ],
   "source": [
    "pd.value_counts(data[\"Match_format\"])"
   ]
  },
  {
   "cell_type": "code",
   "execution_count": 14,
   "id": "bf851776",
   "metadata": {},
   "outputs": [],
   "source": [
    "data[\"Match_format\"] = data[\"Match_format\"].dropna()"
   ]
  },
  {
   "cell_type": "code",
   "execution_count": 15,
   "id": "97522858",
   "metadata": {},
   "outputs": [
    {
     "data": {
      "text/plain": [
       "ODI     1865\n",
       "T20      870\n",
       "Test     125\n",
       "Name: Match_format, dtype: int64"
      ]
     },
     "execution_count": 15,
     "metadata": {},
     "output_type": "execute_result"
    }
   ],
   "source": [
    "pd.value_counts(data[\"Match_format\"])"
   ]
  },
  {
   "cell_type": "markdown",
   "id": "6c0e538a",
   "metadata": {},
   "source": [
    "# 4)Bowler in match"
   ]
  },
  {
   "cell_type": "code",
   "execution_count": 16,
   "id": "d9af14f6",
   "metadata": {},
   "outputs": [],
   "source": [
    "bowl=data[\"Bowlers_in_team\"].mode()"
   ]
  },
  {
   "cell_type": "code",
   "execution_count": 17,
   "id": "834d2a6b",
   "metadata": {},
   "outputs": [],
   "source": [
    "data[\"Bowlers_in_team\"]= data[\"Bowlers_in_team\"].fillna(3.0)"
   ]
  },
  {
   "cell_type": "code",
   "execution_count": 18,
   "id": "2a268d78",
   "metadata": {},
   "outputs": [
    {
     "data": {
      "text/plain": [
       "3.0    1187\n",
       "4.0     775\n",
       "2.0     547\n",
       "1.0     329\n",
       "5.0      92\n",
       "Name: Bowlers_in_team, dtype: int64"
      ]
     },
     "execution_count": 18,
     "metadata": {},
     "output_type": "execute_result"
    }
   ],
   "source": [
    "pd.value_counts(data[\"Bowlers_in_team\"])"
   ]
  },
  {
   "cell_type": "markdown",
   "id": "1d408b34",
   "metadata": {},
   "source": [
    "# 5) All_rounder_in_team"
   ]
  },
  {
   "cell_type": "code",
   "execution_count": 19,
   "id": "6207233e",
   "metadata": {},
   "outputs": [
    {
     "data": {
      "text/plain": [
       "3.0    892\n",
       "4.0    877\n",
       "2.0    563\n",
       "1.0    558\n",
       "Name: All_rounder_in_team, dtype: int64"
      ]
     },
     "execution_count": 19,
     "metadata": {},
     "output_type": "execute_result"
    }
   ],
   "source": [
    "pd.value_counts(data[\"All_rounder_in_team\"])"
   ]
  },
  {
   "cell_type": "code",
   "execution_count": 20,
   "id": "60fb428e",
   "metadata": {},
   "outputs": [
    {
     "data": {
      "text/plain": [
       "3.0"
      ]
     },
     "execution_count": 20,
     "metadata": {},
     "output_type": "execute_result"
    }
   ],
   "source": [
    "data[\"All_rounder_in_team\"].median()"
   ]
  },
  {
   "cell_type": "code",
   "execution_count": 21,
   "id": "bdb54a97",
   "metadata": {},
   "outputs": [],
   "source": [
    "data[\"All_rounder_in_team\"] = data[\"All_rounder_in_team\"].fillna(3.0)"
   ]
  },
  {
   "cell_type": "code",
   "execution_count": 22,
   "id": "f9287476",
   "metadata": {},
   "outputs": [
    {
     "data": {
      "text/plain": [
       "3.0    932\n",
       "4.0    877\n",
       "2.0    563\n",
       "1.0    558\n",
       "Name: All_rounder_in_team, dtype: int64"
      ]
     },
     "execution_count": 22,
     "metadata": {},
     "output_type": "execute_result"
    }
   ],
   "source": [
    "pd.value_counts(data[\"All_rounder_in_team\"])"
   ]
  },
  {
   "cell_type": "markdown",
   "id": "94eb6631",
   "metadata": {},
   "source": [
    "# 6) First_selection"
   ]
  },
  {
   "cell_type": "code",
   "execution_count": 23,
   "id": "4d2fadca",
   "metadata": {},
   "outputs": [
    {
     "data": {
      "text/plain": [
       "0    Bowling\n",
       "Name: First_selection, dtype: object"
      ]
     },
     "execution_count": 23,
     "metadata": {},
     "output_type": "execute_result"
    }
   ],
   "source": [
    "data[\"First_selection\"].mode()"
   ]
  },
  {
   "cell_type": "code",
   "execution_count": 24,
   "id": "c9055b26",
   "metadata": {},
   "outputs": [],
   "source": [
    "data[\"First_selection\"] = data[\"First_selection\"].fillna(\"Bowling\")"
   ]
  },
  {
   "cell_type": "code",
   "execution_count": 25,
   "id": "45aaf6a0",
   "metadata": {},
   "outputs": [
    {
     "data": {
      "text/plain": [
       "Bowling    1781\n",
       "Batting    1149\n",
       "Name: First_selection, dtype: int64"
      ]
     },
     "execution_count": 25,
     "metadata": {},
     "output_type": "execute_result"
    }
   ],
   "source": [
    "pd.value_counts(data[\"First_selection\"])"
   ]
  },
  {
   "cell_type": "markdown",
   "id": "8dff2ead",
   "metadata": {},
   "source": [
    "# 7)Opponent"
   ]
  },
  {
   "cell_type": "code",
   "execution_count": 26,
   "id": "dd17ad1f",
   "metadata": {},
   "outputs": [],
   "source": [
    "data[\"Opponent\"] = data[\"Opponent\"].dropna() "
   ]
  },
  {
   "cell_type": "code",
   "execution_count": 27,
   "id": "450c742d",
   "metadata": {},
   "outputs": [
    {
     "data": {
      "text/plain": [
       "South Africa    640\n",
       "Kenya           576\n",
       "Srilanka        513\n",
       "England         283\n",
       "Pakistan        253\n",
       "Bangladesh      204\n",
       "Zimbabwe        163\n",
       "West Indies     158\n",
       "Australia       104\n",
       "Name: Opponent, dtype: int64"
      ]
     },
     "execution_count": 27,
     "metadata": {},
     "output_type": "execute_result"
    }
   ],
   "source": [
    "pd.value_counts(data[\"Opponent\"])"
   ]
  },
  {
   "cell_type": "markdown",
   "id": "d465a7ab",
   "metadata": {},
   "source": [
    "# 8) season"
   ]
  },
  {
   "cell_type": "code",
   "execution_count": 28,
   "id": "9683ff4f",
   "metadata": {},
   "outputs": [
    {
     "data": {
      "text/plain": [
       "Rainy     1309\n",
       "Summer     918\n",
       "Winter     641\n",
       "Name: Season, dtype: int64"
      ]
     },
     "execution_count": 28,
     "metadata": {},
     "output_type": "execute_result"
    }
   ],
   "source": [
    "pd.value_counts(data[\"Season\"])"
   ]
  },
  {
   "cell_type": "code",
   "execution_count": 29,
   "id": "766b58fe",
   "metadata": {},
   "outputs": [],
   "source": [
    "data[\"Season\"] = data[\"Season\"].dropna()"
   ]
  },
  {
   "cell_type": "code",
   "execution_count": 30,
   "id": "91e1612b",
   "metadata": {},
   "outputs": [
    {
     "data": {
      "text/plain": [
       "Rainy     1309\n",
       "Summer     918\n",
       "Winter     641\n",
       "Name: Season, dtype: int64"
      ]
     },
     "execution_count": 30,
     "metadata": {},
     "output_type": "execute_result"
    }
   ],
   "source": [
    "pd.value_counts(data[\"Season\"])"
   ]
  },
  {
   "cell_type": "markdown",
   "id": "c2a10c5c",
   "metadata": {},
   "source": [
    "# 9) Audience_number"
   ]
  },
  {
   "cell_type": "code",
   "execution_count": 31,
   "id": "56b1000d",
   "metadata": {},
   "outputs": [
    {
     "data": {
      "text/plain": [
       "46267.96068796069"
      ]
     },
     "execution_count": 31,
     "metadata": {},
     "output_type": "execute_result"
    }
   ],
   "source": [
    "data[\"Audience_number\"].mean()"
   ]
  },
  {
   "cell_type": "code",
   "execution_count": 32,
   "id": "3edabf2b",
   "metadata": {},
   "outputs": [],
   "source": [
    "data[\"Audience_number\"] = data[\"Audience_number\"].fillna(46268)"
   ]
  },
  {
   "cell_type": "markdown",
   "id": "735aa114",
   "metadata": {},
   "source": [
    "# 10)Offshore"
   ]
  },
  {
   "cell_type": "code",
   "execution_count": 33,
   "id": "0bdf1b67",
   "metadata": {},
   "outputs": [],
   "source": [
    "data[\"Offshore\"] = data[\"Offshore\"].dropna"
   ]
  },
  {
   "cell_type": "markdown",
   "id": "6de1216a",
   "metadata": {},
   "source": [
    "# 11)Max_run_scored_1over"
   ]
  },
  {
   "cell_type": "code",
   "execution_count": 34,
   "id": "57a7ed85",
   "metadata": {},
   "outputs": [
    {
     "data": {
      "text/plain": [
       "14.0"
      ]
     },
     "execution_count": 34,
     "metadata": {},
     "output_type": "execute_result"
    }
   ],
   "source": [
    "data[\"Max_run_scored_1over\"].median()"
   ]
  },
  {
   "cell_type": "code",
   "execution_count": 35,
   "id": "2952b6e5",
   "metadata": {},
   "outputs": [],
   "source": [
    "data[\"Max_run_scored_1over\"] = data[\"Max_run_scored_1over\"].fillna(14.0)"
   ]
  },
  {
   "cell_type": "code",
   "execution_count": 36,
   "id": "9ce2969d",
   "metadata": {},
   "outputs": [
    {
     "data": {
      "text/plain": [
       "15.18839590443686"
      ]
     },
     "execution_count": 36,
     "metadata": {},
     "output_type": "execute_result"
    }
   ],
   "source": [
    "data[\"Max_run_scored_1over\"].mean()"
   ]
  },
  {
   "cell_type": "markdown",
   "id": "666ff4b7",
   "metadata": {},
   "source": [
    "# 12) Extra_bowls_bowled"
   ]
  },
  {
   "cell_type": "code",
   "execution_count": 37,
   "id": "f51ba5fa",
   "metadata": {},
   "outputs": [
    {
     "data": {
      "text/plain": [
       "10.0"
      ]
     },
     "execution_count": 37,
     "metadata": {},
     "output_type": "execute_result"
    }
   ],
   "source": [
    "data[\"Extra_bowls_bowled\"].median()"
   ]
  },
  {
   "cell_type": "code",
   "execution_count": 38,
   "id": "5640e15a",
   "metadata": {},
   "outputs": [],
   "source": [
    "data[\"Extra_bowls_bowled\"] = data[\"Extra_bowls_bowled\"].fillna(10.0)"
   ]
  },
  {
   "cell_type": "markdown",
   "id": "d7c9855d",
   "metadata": {},
   "source": [
    "# 13) Min_run_scored_1over"
   ]
  },
  {
   "cell_type": "code",
   "execution_count": 39,
   "id": "150549db",
   "metadata": {},
   "outputs": [
    {
     "data": {
      "text/plain": [
       "3.0"
      ]
     },
     "execution_count": 39,
     "metadata": {},
     "output_type": "execute_result"
    }
   ],
   "source": [
    "data[\"Min_run_scored_1over\"].median() "
   ]
  },
  {
   "cell_type": "code",
   "execution_count": 40,
   "id": "d2d8f0c6",
   "metadata": {},
   "outputs": [
    {
     "data": {
      "text/plain": [
       "0    3.0\n",
       "Name: Min_run_scored_1over, dtype: float64"
      ]
     },
     "execution_count": 40,
     "metadata": {},
     "output_type": "execute_result"
    }
   ],
   "source": [
    "data[\"Min_run_scored_1over\"].mode() "
   ]
  },
  {
   "cell_type": "code",
   "execution_count": 41,
   "id": "c7f69741",
   "metadata": {},
   "outputs": [
    {
     "data": {
      "text/plain": [
       "2.7626593179469516"
      ]
     },
     "execution_count": 41,
     "metadata": {},
     "output_type": "execute_result"
    }
   ],
   "source": [
    "data[\"Min_run_scored_1over\"].mean() "
   ]
  },
  {
   "cell_type": "code",
   "execution_count": 42,
   "id": "3fb89419",
   "metadata": {},
   "outputs": [],
   "source": [
    "data[\"Min_run_scored_1over\"] = data[\"Min_run_scored_1over\"].fillna(3.0)"
   ]
  },
  {
   "cell_type": "markdown",
   "id": "66830f32",
   "metadata": {},
   "source": [
    "# 14) Max_run_given_1over"
   ]
  },
  {
   "cell_type": "code",
   "execution_count": 43,
   "id": "e39e090b",
   "metadata": {},
   "outputs": [
    {
     "data": {
      "text/plain": [
       "8.669198895027625"
      ]
     },
     "execution_count": 43,
     "metadata": {},
     "output_type": "execute_result"
    }
   ],
   "source": [
    "data[\"Max_run_given_1over\"].mean()"
   ]
  },
  {
   "cell_type": "code",
   "execution_count": 44,
   "id": "60af6e5e",
   "metadata": {},
   "outputs": [
    {
     "data": {
      "text/plain": [
       "6.0"
      ]
     },
     "execution_count": 44,
     "metadata": {},
     "output_type": "execute_result"
    }
   ],
   "source": [
    "data[\"Max_run_given_1over\"].median()"
   ]
  },
  {
   "cell_type": "code",
   "execution_count": 45,
   "id": "b2fb5f56",
   "metadata": {},
   "outputs": [
    {
     "data": {
      "text/plain": [
       "0    6.0\n",
       "Name: Max_run_given_1over, dtype: float64"
      ]
     },
     "execution_count": 45,
     "metadata": {},
     "output_type": "execute_result"
    }
   ],
   "source": [
    "data[\"Max_run_given_1over\"].mode()"
   ]
  },
  {
   "cell_type": "code",
   "execution_count": 46,
   "id": "89b8846e",
   "metadata": {},
   "outputs": [],
   "source": [
    "data[\"Max_run_given_1over\"] = data[\"Max_run_given_1over\"].fillna(6)"
   ]
  },
  {
   "cell_type": "markdown",
   "id": "6915939e",
   "metadata": {},
   "source": [
    "# 15) player_highest_run"
   ]
  },
  {
   "cell_type": "code",
   "execution_count": 47,
   "id": "8fb80d2f",
   "metadata": {},
   "outputs": [
    {
     "data": {
      "text/plain": [
       "65.8893866299104"
      ]
     },
     "execution_count": 47,
     "metadata": {},
     "output_type": "execute_result"
    }
   ],
   "source": [
    "data[\"player_highest_run\"].mean()"
   ]
  },
  {
   "cell_type": "code",
   "execution_count": 48,
   "id": "46c2dd48",
   "metadata": {},
   "outputs": [
    {
     "data": {
      "text/plain": [
       "0    66.0\n",
       "Name: player_highest_run, dtype: float64"
      ]
     },
     "execution_count": 48,
     "metadata": {},
     "output_type": "execute_result"
    }
   ],
   "source": [
    "data[\"player_highest_run\"].mode()"
   ]
  },
  {
   "cell_type": "code",
   "execution_count": 49,
   "id": "6053c715",
   "metadata": {},
   "outputs": [],
   "source": [
    "data[\"player_highest_run\"]= data[\"player_highest_run\"].fillna(66.0)"
   ]
  },
  {
   "cell_type": "code",
   "execution_count": 50,
   "id": "6d5d77c5",
   "metadata": {},
   "outputs": [
    {
     "data": {
      "text/plain": [
       "Game_number                0\n",
       "Result                     0\n",
       "Avg_team_Age               0\n",
       "Match_light_type           0\n",
       "Match_format              70\n",
       "Bowlers_in_team            0\n",
       "Wicket_keeper_in_team      0\n",
       "All_rounder_in_team        0\n",
       "First_selection            0\n",
       "Opponent                  36\n",
       "Season                    62\n",
       "Audience_number            0\n",
       "Offshore                   0\n",
       "Max_run_scored_1over       0\n",
       "Max_wicket_taken_1over     0\n",
       "Extra_bowls_bowled         0\n",
       "Min_run_given_1over        0\n",
       "Min_run_scored_1over       0\n",
       "Max_run_given_1over        0\n",
       "extra_bowls_opponent       0\n",
       "player_highest_run         0\n",
       "Players_scored_zero        0\n",
       "player_highest_wicket      0\n",
       "dtype: int64"
      ]
     },
     "execution_count": 50,
     "metadata": {},
     "output_type": "execute_result"
    }
   ],
   "source": [
    "data.isnull().sum()"
   ]
  },
  {
   "cell_type": "code",
   "execution_count": 51,
   "id": "d76e9c9f",
   "metadata": {},
   "outputs": [
    {
     "name": "stdout",
     "output_type": "stream",
     "text": [
      "<class 'pandas.core.frame.DataFrame'>\n",
      "RangeIndex: 2930 entries, 0 to 2929\n",
      "Data columns (total 23 columns):\n",
      " #   Column                  Non-Null Count  Dtype  \n",
      "---  ------                  --------------  -----  \n",
      " 0   Game_number             2930 non-null   object \n",
      " 1   Result                  2930 non-null   object \n",
      " 2   Avg_team_Age            2930 non-null   float64\n",
      " 3   Match_light_type        2930 non-null   object \n",
      " 4   Match_format            2860 non-null   object \n",
      " 5   Bowlers_in_team         2930 non-null   float64\n",
      " 6   Wicket_keeper_in_team   2930 non-null   int64  \n",
      " 7   All_rounder_in_team     2930 non-null   float64\n",
      " 8   First_selection         2930 non-null   object \n",
      " 9   Opponent                2894 non-null   object \n",
      " 10  Season                  2868 non-null   object \n",
      " 11  Audience_number         2930 non-null   float64\n",
      " 12  Offshore                2930 non-null   object \n",
      " 13  Max_run_scored_1over    2930 non-null   float64\n",
      " 14  Max_wicket_taken_1over  2930 non-null   int64  \n",
      " 15  Extra_bowls_bowled      2930 non-null   float64\n",
      " 16  Min_run_given_1over     2930 non-null   int64  \n",
      " 17  Min_run_scored_1over    2930 non-null   float64\n",
      " 18  Max_run_given_1over     2930 non-null   float64\n",
      " 19  extra_bowls_opponent    2930 non-null   int64  \n",
      " 20  player_highest_run      2930 non-null   float64\n",
      " 21  Players_scored_zero     2930 non-null   int64  \n",
      " 22  player_highest_wicket   2930 non-null   int64  \n",
      "dtypes: float64(9), int64(6), object(8)\n",
      "memory usage: 526.6+ KB\n"
     ]
    }
   ],
   "source": [
    "data.info()"
   ]
  },
  {
   "cell_type": "code",
   "execution_count": 52,
   "id": "f71efd14",
   "metadata": {},
   "outputs": [
    {
     "data": {
      "text/html": [
       "<div>\n",
       "<style scoped>\n",
       "    .dataframe tbody tr th:only-of-type {\n",
       "        vertical-align: middle;\n",
       "    }\n",
       "\n",
       "    .dataframe tbody tr th {\n",
       "        vertical-align: top;\n",
       "    }\n",
       "\n",
       "    .dataframe thead th {\n",
       "        text-align: right;\n",
       "    }\n",
       "</style>\n",
       "<table border=\"1\" class=\"dataframe\">\n",
       "  <thead>\n",
       "    <tr style=\"text-align: right;\">\n",
       "      <th></th>\n",
       "      <th>count</th>\n",
       "      <th>mean</th>\n",
       "      <th>std</th>\n",
       "      <th>min</th>\n",
       "      <th>25%</th>\n",
       "      <th>50%</th>\n",
       "      <th>75%</th>\n",
       "      <th>max</th>\n",
       "    </tr>\n",
       "  </thead>\n",
       "  <tbody>\n",
       "    <tr>\n",
       "      <th>Avg_team_Age</th>\n",
       "      <td>2930.0</td>\n",
       "      <td>29.267918</td>\n",
       "      <td>2.230540</td>\n",
       "      <td>12.0</td>\n",
       "      <td>30.0</td>\n",
       "      <td>30.0</td>\n",
       "      <td>30.00</td>\n",
       "      <td>70.0</td>\n",
       "    </tr>\n",
       "    <tr>\n",
       "      <th>Bowlers_in_team</th>\n",
       "      <td>2930.0</td>\n",
       "      <td>2.916041</td>\n",
       "      <td>1.009573</td>\n",
       "      <td>1.0</td>\n",
       "      <td>2.0</td>\n",
       "      <td>3.0</td>\n",
       "      <td>4.00</td>\n",
       "      <td>5.0</td>\n",
       "    </tr>\n",
       "    <tr>\n",
       "      <th>Wicket_keeper_in_team</th>\n",
       "      <td>2930.0</td>\n",
       "      <td>1.000000</td>\n",
       "      <td>0.000000</td>\n",
       "      <td>1.0</td>\n",
       "      <td>1.0</td>\n",
       "      <td>1.0</td>\n",
       "      <td>1.00</td>\n",
       "      <td>1.0</td>\n",
       "    </tr>\n",
       "    <tr>\n",
       "      <th>All_rounder_in_team</th>\n",
       "      <td>2930.0</td>\n",
       "      <td>2.726280</td>\n",
       "      <td>1.085690</td>\n",
       "      <td>1.0</td>\n",
       "      <td>2.0</td>\n",
       "      <td>3.0</td>\n",
       "      <td>4.00</td>\n",
       "      <td>4.0</td>\n",
       "    </tr>\n",
       "    <tr>\n",
       "      <th>Audience_number</th>\n",
       "      <td>2930.0</td>\n",
       "      <td>46267.961775</td>\n",
       "      <td>47922.871834</td>\n",
       "      <td>7063.0</td>\n",
       "      <td>20608.0</td>\n",
       "      <td>35189.0</td>\n",
       "      <td>55931.75</td>\n",
       "      <td>1399930.0</td>\n",
       "    </tr>\n",
       "    <tr>\n",
       "      <th>Max_run_scored_1over</th>\n",
       "      <td>2930.0</td>\n",
       "      <td>15.188396</td>\n",
       "      <td>3.645339</td>\n",
       "      <td>11.0</td>\n",
       "      <td>12.0</td>\n",
       "      <td>14.0</td>\n",
       "      <td>18.00</td>\n",
       "      <td>25.0</td>\n",
       "    </tr>\n",
       "    <tr>\n",
       "      <th>Max_wicket_taken_1over</th>\n",
       "      <td>2930.0</td>\n",
       "      <td>2.713993</td>\n",
       "      <td>1.080623</td>\n",
       "      <td>1.0</td>\n",
       "      <td>2.0</td>\n",
       "      <td>3.0</td>\n",
       "      <td>4.00</td>\n",
       "      <td>4.0</td>\n",
       "    </tr>\n",
       "    <tr>\n",
       "      <th>Extra_bowls_bowled</th>\n",
       "      <td>2930.0</td>\n",
       "      <td>11.240273</td>\n",
       "      <td>7.743208</td>\n",
       "      <td>0.0</td>\n",
       "      <td>6.0</td>\n",
       "      <td>10.0</td>\n",
       "      <td>15.00</td>\n",
       "      <td>40.0</td>\n",
       "    </tr>\n",
       "    <tr>\n",
       "      <th>Min_run_given_1over</th>\n",
       "      <td>2930.0</td>\n",
       "      <td>1.952560</td>\n",
       "      <td>1.678332</td>\n",
       "      <td>0.0</td>\n",
       "      <td>0.0</td>\n",
       "      <td>2.0</td>\n",
       "      <td>3.00</td>\n",
       "      <td>6.0</td>\n",
       "    </tr>\n",
       "    <tr>\n",
       "      <th>Min_run_scored_1over</th>\n",
       "      <td>2930.0</td>\n",
       "      <td>2.764846</td>\n",
       "      <td>0.702864</td>\n",
       "      <td>1.0</td>\n",
       "      <td>2.0</td>\n",
       "      <td>3.0</td>\n",
       "      <td>3.00</td>\n",
       "      <td>4.0</td>\n",
       "    </tr>\n",
       "    <tr>\n",
       "      <th>Max_run_given_1over</th>\n",
       "      <td>2930.0</td>\n",
       "      <td>8.638225</td>\n",
       "      <td>4.982610</td>\n",
       "      <td>6.0</td>\n",
       "      <td>6.0</td>\n",
       "      <td>6.0</td>\n",
       "      <td>9.00</td>\n",
       "      <td>40.0</td>\n",
       "    </tr>\n",
       "    <tr>\n",
       "      <th>extra_bowls_opponent</th>\n",
       "      <td>2930.0</td>\n",
       "      <td>4.229693</td>\n",
       "      <td>3.626108</td>\n",
       "      <td>0.0</td>\n",
       "      <td>2.0</td>\n",
       "      <td>3.0</td>\n",
       "      <td>7.00</td>\n",
       "      <td>18.0</td>\n",
       "    </tr>\n",
       "    <tr>\n",
       "      <th>player_highest_run</th>\n",
       "      <td>2930.0</td>\n",
       "      <td>65.890444</td>\n",
       "      <td>20.234203</td>\n",
       "      <td>30.0</td>\n",
       "      <td>48.0</td>\n",
       "      <td>66.0</td>\n",
       "      <td>83.00</td>\n",
       "      <td>100.0</td>\n",
       "    </tr>\n",
       "    <tr>\n",
       "      <th>Players_scored_zero</th>\n",
       "      <td>2930.0</td>\n",
       "      <td>2.730034</td>\n",
       "      <td>0.710708</td>\n",
       "      <td>1.0</td>\n",
       "      <td>2.0</td>\n",
       "      <td>3.0</td>\n",
       "      <td>3.00</td>\n",
       "      <td>4.0</td>\n",
       "    </tr>\n",
       "    <tr>\n",
       "      <th>player_highest_wicket</th>\n",
       "      <td>2930.0</td>\n",
       "      <td>2.063481</td>\n",
       "      <td>1.107440</td>\n",
       "      <td>1.0</td>\n",
       "      <td>1.0</td>\n",
       "      <td>2.0</td>\n",
       "      <td>3.00</td>\n",
       "      <td>5.0</td>\n",
       "    </tr>\n",
       "  </tbody>\n",
       "</table>\n",
       "</div>"
      ],
      "text/plain": [
       "                         count          mean           std     min      25%  \\\n",
       "Avg_team_Age            2930.0     29.267918      2.230540    12.0     30.0   \n",
       "Bowlers_in_team         2930.0      2.916041      1.009573     1.0      2.0   \n",
       "Wicket_keeper_in_team   2930.0      1.000000      0.000000     1.0      1.0   \n",
       "All_rounder_in_team     2930.0      2.726280      1.085690     1.0      2.0   \n",
       "Audience_number         2930.0  46267.961775  47922.871834  7063.0  20608.0   \n",
       "Max_run_scored_1over    2930.0     15.188396      3.645339    11.0     12.0   \n",
       "Max_wicket_taken_1over  2930.0      2.713993      1.080623     1.0      2.0   \n",
       "Extra_bowls_bowled      2930.0     11.240273      7.743208     0.0      6.0   \n",
       "Min_run_given_1over     2930.0      1.952560      1.678332     0.0      0.0   \n",
       "Min_run_scored_1over    2930.0      2.764846      0.702864     1.0      2.0   \n",
       "Max_run_given_1over     2930.0      8.638225      4.982610     6.0      6.0   \n",
       "extra_bowls_opponent    2930.0      4.229693      3.626108     0.0      2.0   \n",
       "player_highest_run      2930.0     65.890444     20.234203    30.0     48.0   \n",
       "Players_scored_zero     2930.0      2.730034      0.710708     1.0      2.0   \n",
       "player_highest_wicket   2930.0      2.063481      1.107440     1.0      1.0   \n",
       "\n",
       "                            50%       75%        max  \n",
       "Avg_team_Age               30.0     30.00       70.0  \n",
       "Bowlers_in_team             3.0      4.00        5.0  \n",
       "Wicket_keeper_in_team       1.0      1.00        1.0  \n",
       "All_rounder_in_team         3.0      4.00        4.0  \n",
       "Audience_number         35189.0  55931.75  1399930.0  \n",
       "Max_run_scored_1over       14.0     18.00       25.0  \n",
       "Max_wicket_taken_1over      3.0      4.00        4.0  \n",
       "Extra_bowls_bowled         10.0     15.00       40.0  \n",
       "Min_run_given_1over         2.0      3.00        6.0  \n",
       "Min_run_scored_1over        3.0      3.00        4.0  \n",
       "Max_run_given_1over         6.0      9.00       40.0  \n",
       "extra_bowls_opponent        3.0      7.00       18.0  \n",
       "player_highest_run         66.0     83.00      100.0  \n",
       "Players_scored_zero         3.0      3.00        4.0  \n",
       "player_highest_wicket       2.0      3.00        5.0  "
      ]
     },
     "execution_count": 52,
     "metadata": {},
     "output_type": "execute_result"
    }
   ],
   "source": [
    "data.describe().T"
   ]
  },
  {
   "cell_type": "code",
   "execution_count": null,
   "id": "a383c223",
   "metadata": {},
   "outputs": [],
   "source": []
  },
  {
   "cell_type": "markdown",
   "id": "1944aa96",
   "metadata": {},
   "source": [
    "# Univariate analysis"
   ]
  },
  {
   "cell_type": "code",
   "execution_count": 53,
   "id": "daba0c71",
   "metadata": {},
   "outputs": [
    {
     "name": "stderr",
     "output_type": "stream",
     "text": [
      "c:\\users\\user\\appdata\\local\\programs\\python\\python39\\lib\\site-packages\\seaborn\\_decorators.py:36: FutureWarning: Pass the following variable as a keyword arg: x. From version 0.12, the only valid positional argument will be `data`, and passing other arguments without an explicit keyword will result in an error or misinterpretation.\n",
      "  warnings.warn(\n"
     ]
    },
    {
     "data": {
      "text/plain": [
       "<AxesSubplot:xlabel='Result', ylabel='count'>"
      ]
     },
     "execution_count": 53,
     "metadata": {},
     "output_type": "execute_result"
    },
    {
     "data": {
      "image/png": "[encoded data removed]",
      "text/plain": [
       "<Figure size 432x288 with 1 Axes>"
      ]
     },
     "metadata": {
      "needs_background": "light"
     },
     "output_type": "display_data"
    }
   ],
   "source": [
    "sas.countplot(data[\"Result\"])"
   ]
  },
  {
   "cell_type": "code",
   "execution_count": 54,
   "id": "b6463dc8",
   "metadata": {},
   "outputs": [
    {
     "name": "stderr",
     "output_type": "stream",
     "text": [
      "c:\\users\\user\\appdata\\local\\programs\\python\\python39\\lib\\site-packages\\seaborn\\_decorators.py:36: FutureWarning: Pass the following variable as a keyword arg: x. From version 0.12, the only valid positional argument will be `data`, and passing other arguments without an explicit keyword will result in an error or misinterpretation.\n",
      "  warnings.warn(\n"
     ]
    },
    {
     "data": {
      "text/plain": [
       "<AxesSubplot:xlabel='Match_format', ylabel='count'>"
      ]
     },
     "execution_count": 54,
     "metadata": {},
     "output_type": "execute_result"
    },
    {
     "data": {
      "image/png": "[encoded data removed]",
      "text/plain": [
       "<Figure size 432x288 with 1 Axes>"
      ]
     },
     "metadata": {
      "needs_background": "light"
     },
     "output_type": "display_data"
    }
   ],
   "source": [
    "sas.countplot(data[\"Match_format\"])\n"
   ]
  },
  {
   "cell_type": "code",
   "execution_count": 55,
   "id": "5e9b1db3",
   "metadata": {},
   "outputs": [
    {
     "name": "stdout",
     "output_type": "stream",
     "text": [
      "South Africa    640\n",
      "Kenya           576\n",
      "Srilanka        513\n",
      "England         283\n",
      "Pakistan        253\n",
      "Bangladesh      204\n",
      "Zimbabwe        163\n",
      "West Indies     158\n",
      "Australia       104\n",
      "Name: Opponent, dtype: int64\n"
     ]
    },
    {
     "name": "stderr",
     "output_type": "stream",
     "text": [
      "c:\\users\\user\\appdata\\local\\programs\\python\\python39\\lib\\site-packages\\seaborn\\_decorators.py:36: FutureWarning: Pass the following variable as a keyword arg: x. From version 0.12, the only valid positional argument will be `data`, and passing other arguments without an explicit keyword will result in an error or misinterpretation.\n",
      "  warnings.warn(\n"
     ]
    },
    {
     "data": {
      "text/plain": [
       "<AxesSubplot:xlabel='Opponent', ylabel='count'>"
      ]
     },
     "execution_count": 55,
     "metadata": {},
     "output_type": "execute_result"
    },
    {
     "data": {
      "image/png": "[encoded data removed]",
      "text/plain": [
       "<Figure size 1080x1080 with 1 Axes>"
      ]
     },
     "metadata": {
      "needs_background": "light"
     },
     "output_type": "display_data"
    }
   ],
   "source": [
    "plt.figure(figsize=(15,15))\n",
    "print(pd.value_counts(data[\"Opponent\"]))\n",
    "sas.countplot(data[\"Opponent\"])\n"
   ]
  },
  {
   "cell_type": "code",
   "execution_count": 56,
   "id": "7b10321a",
   "metadata": {},
   "outputs": [
    {
     "name": "stderr",
     "output_type": "stream",
     "text": [
      "c:\\users\\user\\appdata\\local\\programs\\python\\python39\\lib\\site-packages\\seaborn\\_decorators.py:36: FutureWarning: Pass the following variable as a keyword arg: x. From version 0.12, the only valid positional argument will be `data`, and passing other arguments without an explicit keyword will result in an error or misinterpretation.\n",
      "  warnings.warn(\n"
     ]
    },
    {
     "data": {
      "text/plain": [
       "<AxesSubplot:xlabel='Season', ylabel='count'>"
      ]
     },
     "execution_count": 56,
     "metadata": {},
     "output_type": "execute_result"
    },
    {
     "data": {
      "image/png": "[encoded data removed]",
      "text/plain": [
       "<Figure size 432x288 with 1 Axes>"
      ]
     },
     "metadata": {
      "needs_background": "light"
     },
     "output_type": "display_data"
    }
   ],
   "source": [
    "sas.countplot(data[\"Season\"])\n"
   ]
  },
  {
   "cell_type": "code",
   "execution_count": 57,
   "id": "12c220fb",
   "metadata": {},
   "outputs": [
    {
     "name": "stderr",
     "output_type": "stream",
     "text": [
      "c:\\users\\user\\appdata\\local\\programs\\python\\python39\\lib\\site-packages\\seaborn\\_decorators.py:36: FutureWarning: Pass the following variable as a keyword arg: x. From version 0.12, the only valid positional argument will be `data`, and passing other arguments without an explicit keyword will result in an error or misinterpretation.\n",
      "  warnings.warn(\n"
     ]
    },
    {
     "data": {
      "text/plain": [
       "<AxesSubplot:xlabel='Match_light_type', ylabel='count'>"
      ]
     },
     "execution_count": 57,
     "metadata": {},
     "output_type": "execute_result"
    },
    {
     "data": {
      "image/png": "[encoded data removed]",
      "text/plain": [
       "<Figure size 432x288 with 1 Axes>"
      ]
     },
     "metadata": {
      "needs_background": "light"
     },
     "output_type": "display_data"
    }
   ],
   "source": [
    "sas.countplot(data[\"Match_light_type\"])"
   ]
  },
  {
   "cell_type": "code",
   "execution_count": 58,
   "id": "8bb5dfd3",
   "metadata": {},
   "outputs": [
    {
     "name": "stderr",
     "output_type": "stream",
     "text": [
      "c:\\users\\user\\appdata\\local\\programs\\python\\python39\\lib\\site-packages\\seaborn\\_decorators.py:36: FutureWarning: Pass the following variable as a keyword arg: x. From version 0.12, the only valid positional argument will be `data`, and passing other arguments without an explicit keyword will result in an error or misinterpretation.\n",
      "  warnings.warn(\n"
     ]
    },
    {
     "data": {
      "text/plain": [
       "<AxesSubplot:xlabel='First_selection', ylabel='count'>"
      ]
     },
     "execution_count": 58,
     "metadata": {},
     "output_type": "execute_result"
    },
    {
     "data": {
      "image/png": "[encoded data removed]",
      "text/plain": [
       "<Figure size 432x288 with 1 Axes>"
      ]
     },
     "metadata": {
      "needs_background": "light"
     },
     "output_type": "display_data"
    }
   ],
   "source": [
    "sas.countplot(data[\"First_selection\"])"
   ]
  },
  {
   "cell_type": "code",
   "execution_count": 59,
   "id": "77fc4dab",
   "metadata": {},
   "outputs": [
    {
     "data": {
      "text/plain": [
       "<AxesSubplot:xlabel='Avg_team_Age', ylabel='Count'>"
      ]
     },
     "execution_count": 59,
     "metadata": {},
     "output_type": "execute_result"
    },
    {
     "data": {
      "image/png": "[encoded data removed]",
      "text/plain": [
       "<Figure size 432x288 with 1 Axes>"
      ]
     },
     "metadata": {
      "needs_background": "light"
     },
     "output_type": "display_data"
    }
   ],
   "source": [
    "sas.histplot(data[\"Avg_team_Age\"])"
   ]
  },
  {
   "cell_type": "code",
   "execution_count": 60,
   "id": "245301f0",
   "metadata": {},
   "outputs": [],
   "source": [
    "from sklearn.tree import DecisionTreeClassifier"
   ]
  },
  {
   "cell_type": "code",
   "execution_count": 61,
   "id": "6128326a",
   "metadata": {},
   "outputs": [],
   "source": [
    "drt = DecisionTreeClassifier()"
   ]
  },
  {
   "cell_type": "code",
   "execution_count": 69,
   "id": "c44b4fb3",
   "metadata": {},
   "outputs": [
    {
     "data": {
      "text/html": [
       "<style>#sk-container-id-1 {color: black;background-color: white;}#sk-container-id-1 pre{padding: 0;}#sk-container-id-1 div.sk-toggleable {background-color: white;}#sk-container-id-1 label.sk-toggleable__label {cursor: pointer;display: block;width: 100%;margin-bottom: 0;padding: 0.3em;box-sizing: border-box;text-align: center;}#sk-container-id-1 label.sk-toggleable__label-arrow:before {content: \"▸\";float: left;margin-right: 0.25em;color: #696969;}#sk-container-id-1 label.sk-toggleable__label-arrow:hover:before {color: black;}#sk-container-id-1 div.sk-estimator:hover label.sk-toggleable__label-arrow:before {color: black;}#sk-container-id-1 div.sk-toggleable__content {max-height: 0;max-width: 0;overflow: hidden;text-align: left;background-color: #f0f8ff;}#sk-container-id-1 div.sk-toggleable__content pre {margin: 0.2em;color: black;border-radius: 0.25em;background-color: #f0f8ff;}#sk-container-id-1 input.sk-toggleable__control:checked~div.sk-toggleable__content {max-height: 200px;max-width: 100%;overflow: auto;}#sk-container-id-1 input.sk-toggleable__control:checked~label.sk-toggleable__label-arrow:before {content: \"▾\";}#sk-container-id-1 div.sk-estimator input.sk-toggleable__control:checked~label.sk-toggleable__label {background-color: #d4ebff;}#sk-container-id-1 div.sk-label input.sk-toggleable__control:checked~label.sk-toggleable__label {background-color: #d4ebff;}#sk-container-id-1 input.sk-hidden--visually {border: 0;clip: rect(1px 1px 1px 1px);clip: rect(1px, 1px, 1px, 1px);height: 1px;margin: -1px;overflow: hidden;padding: 0;position: absolute;width: 1px;}#sk-container-id-1 div.sk-estimator {font-family: monospace;background-color: #f0f8ff;border: 1px dotted black;border-radius: 0.25em;box-sizing: border-box;margin-bottom: 0.5em;}#sk-container-id-1 div.sk-estimator:hover {background-color: #d4ebff;}#sk-container-id-1 div.sk-parallel-item::after {content: \"\";width: 100%;border-bottom: 1px solid gray;flex-grow: 1;}#sk-container-id-1 div.sk-label:hover label.sk-toggleable__label {background-color: #d4ebff;}#sk-container-id-1 div.sk-serial::before {content: \"\";position: absolute;border-left: 1px solid gray;box-sizing: border-box;top: 0;bottom: 0;left: 50%;z-index: 0;}#sk-container-id-1 div.sk-serial {display: flex;flex-direction: column;align-items: center;background-color: white;padding-right: 0.2em;padding-left: 0.2em;position: relative;}#sk-container-id-1 div.sk-item {position: relative;z-index: 1;}#sk-container-id-1 div.sk-parallel {display: flex;align-items: stretch;justify-content: center;background-color: white;position: relative;}#sk-container-id-1 div.sk-item::before, #sk-container-id-1 div.sk-parallel-item::before {content: \"\";position: absolute;border-left: 1px solid gray;box-sizing: border-box;top: 0;bottom: 0;left: 50%;z-index: -1;}#sk-container-id-1 div.sk-parallel-item {display: flex;flex-direction: column;z-index: 1;position: relative;background-color: white;}#sk-container-id-1 div.sk-parallel-item:first-child::after {align-self: flex-end;width: 50%;}#sk-container-id-1 div.sk-parallel-item:last-child::after {align-self: flex-start;width: 50%;}#sk-container-id-1 div.sk-parallel-item:only-child::after {width: 0;}#sk-container-id-1 div.sk-dashed-wrapped {border: 1px dashed gray;margin: 0 0.4em 0.5em 0.4em;box-sizing: border-box;padding-bottom: 0.4em;background-color: white;}#sk-container-id-1 div.sk-label label {font-family: monospace;font-weight: bold;display: inline-block;line-height: 1.2em;}#sk-container-id-1 div.sk-label-container {text-align: center;}#sk-container-id-1 div.sk-container {/* jupyter's `normalize.less` sets `[hidden] { display: none; }` but bootstrap.min.css set `[hidden] { display: none !important; }` so we also need the `!important` here to be able to override the default hidden behavior on the sphinx rendered scikit-learn.org. See: https://github.com/scikit-learn/scikit-learn/issues/21755 */display: inline-block !important;position: relative;}#sk-container-id-1 div.sk-text-repr-fallback {display: none;}</style><div id=\"sk-container-id-1\" class=\"sk-top-container\"><div class=\"sk-text-repr-fallback\"><pre>DecisionTreeClassifier()</pre><b>In a Jupyter environment, please rerun this cell to show the HTML representation or trust the notebook. <br />On GitHub, the HTML representation is unable to render, please try loading this page with nbviewer.org.</b></div><div class=\"sk-container\" hidden><div class=\"sk-item\"><div class=\"sk-estimator sk-toggleable\"><input class=\"sk-toggleable__control sk-hidden--visually\" id=\"sk-estimator-id-1\" type=\"checkbox\" checked><label for=\"sk-estimator-id-1\" class=\"sk-toggleable__label sk-toggleable__label-arrow\">DecisionTreeClassifier</label><div class=\"sk-toggleable__content\"><pre>DecisionTreeClassifier()</pre></div></div></div></div></div>"
      ],
      "text/plain": [
       "DecisionTreeClassifier()"
      ]
     },
     "execution_count": 69,
     "metadata": {},
     "output_type": "execute_result"
    }
   ],
   "source": [
    "drt.fit(x,y)"
   ]
  },
  {
   "cell_type": "code",
   "execution_count": 81,
   "id": "a6854467",
   "metadata": {},
   "outputs": [],
   "source": [
    "imp=pd.DataFrame(drt.feature_importances_,index = x.columns,columns = [\"Imp\"])"
   ]
  },
  {
   "cell_type": "code",
   "execution_count": 84,
   "id": "dc85b6cc",
   "metadata": {},
   "outputs": [
    {
     "data": {
      "text/html": [
       "<div>\n",
       "<style scoped>\n",
       "    .dataframe tbody tr th:only-of-type {\n",
       "        vertical-align: middle;\n",
       "    }\n",
       "\n",
       "    .dataframe tbody tr th {\n",
       "        vertical-align: top;\n",
       "    }\n",
       "\n",
       "    .dataframe thead th {\n",
       "        text-align: right;\n",
       "    }\n",
       "</style>\n",
       "<table border=\"1\" class=\"dataframe\">\n",
       "  <thead>\n",
       "    <tr style=\"text-align: right;\">\n",
       "      <th></th>\n",
       "      <th>Imp</th>\n",
       "    </tr>\n",
       "  </thead>\n",
       "  <tbody>\n",
       "    <tr>\n",
       "      <th>Audience_number</th>\n",
       "      <td>0.121158</td>\n",
       "    </tr>\n",
       "    <tr>\n",
       "      <th>Extra_bowls_bowled</th>\n",
       "      <td>0.117120</td>\n",
       "    </tr>\n",
       "    <tr>\n",
       "      <th>Max_run_scored_1over</th>\n",
       "      <td>0.108111</td>\n",
       "    </tr>\n",
       "    <tr>\n",
       "      <th>player_highest_run</th>\n",
       "      <td>0.107439</td>\n",
       "    </tr>\n",
       "    <tr>\n",
       "      <th>Opponent</th>\n",
       "      <td>0.061674</td>\n",
       "    </tr>\n",
       "    <tr>\n",
       "      <th>All_rounder_in_team</th>\n",
       "      <td>0.059018</td>\n",
       "    </tr>\n",
       "    <tr>\n",
       "      <th>Players_scored_zero</th>\n",
       "      <td>0.054185</td>\n",
       "    </tr>\n",
       "    <tr>\n",
       "      <th>extra_bowls_opponent</th>\n",
       "      <td>0.053800</td>\n",
       "    </tr>\n",
       "    <tr>\n",
       "      <th>Min_run_given_1over</th>\n",
       "      <td>0.046034</td>\n",
       "    </tr>\n",
       "    <tr>\n",
       "      <th>Avg_team_Age</th>\n",
       "      <td>0.042538</td>\n",
       "    </tr>\n",
       "    <tr>\n",
       "      <th>Max_wicket_taken_1over</th>\n",
       "      <td>0.041254</td>\n",
       "    </tr>\n",
       "    <tr>\n",
       "      <th>Season</th>\n",
       "      <td>0.036945</td>\n",
       "    </tr>\n",
       "    <tr>\n",
       "      <th>Min_run_scored_1over</th>\n",
       "      <td>0.034504</td>\n",
       "    </tr>\n",
       "    <tr>\n",
       "      <th>player_highest_wicket</th>\n",
       "      <td>0.026297</td>\n",
       "    </tr>\n",
       "    <tr>\n",
       "      <th>Bowlers_in_team</th>\n",
       "      <td>0.025438</td>\n",
       "    </tr>\n",
       "    <tr>\n",
       "      <th>Match_light_type</th>\n",
       "      <td>0.024971</td>\n",
       "    </tr>\n",
       "    <tr>\n",
       "      <th>Match_format</th>\n",
       "      <td>0.016098</td>\n",
       "    </tr>\n",
       "    <tr>\n",
       "      <th>Max_run_given_1over</th>\n",
       "      <td>0.013864</td>\n",
       "    </tr>\n",
       "    <tr>\n",
       "      <th>First_selection</th>\n",
       "      <td>0.009550</td>\n",
       "    </tr>\n",
       "    <tr>\n",
       "      <th>Wicket_keeper_in_team</th>\n",
       "      <td>0.000000</td>\n",
       "    </tr>\n",
       "    <tr>\n",
       "      <th>Offshore</th>\n",
       "      <td>0.000000</td>\n",
       "    </tr>\n",
       "  </tbody>\n",
       "</table>\n",
       "</div>"
      ],
      "text/plain": [
       "                             Imp\n",
       "Audience_number         0.121158\n",
       "Extra_bowls_bowled      0.117120\n",
       "Max_run_scored_1over    0.108111\n",
       "player_highest_run      0.107439\n",
       "Opponent                0.061674\n",
       "All_rounder_in_team     0.059018\n",
       "Players_scored_zero     0.054185\n",
       "extra_bowls_opponent    0.053800\n",
       "Min_run_given_1over     0.046034\n",
       "Avg_team_Age            0.042538\n",
       "Max_wicket_taken_1over  0.041254\n",
       "Season                  0.036945\n",
       "Min_run_scored_1over    0.034504\n",
       "player_highest_wicket   0.026297\n",
       "Bowlers_in_team         0.025438\n",
       "Match_light_type        0.024971\n",
       "Match_format            0.016098\n",
       "Max_run_given_1over     0.013864\n",
       "First_selection         0.009550\n",
       "Wicket_keeper_in_team   0.000000\n",
       "Offshore                0.000000"
      ]
     },
     "execution_count": 84,
     "metadata": {},
     "output_type": "execute_result"
    }
   ],
   "source": [
    "imp .sort_values(by = \"Imp\", ascending=False)"
   ]
  },
  {
   "cell_type": "code",
   "execution_count": 62,
   "id": "883c6052",
   "metadata": {},
   "outputs": [
    {
     "name": "stdout",
     "output_type": "stream",
     "text": [
      "<class 'pandas.core.frame.DataFrame'>\n",
      "RangeIndex: 2930 entries, 0 to 2929\n",
      "Data columns (total 23 columns):\n",
      " #   Column                  Non-Null Count  Dtype  \n",
      "---  ------                  --------------  -----  \n",
      " 0   Game_number             2930 non-null   object \n",
      " 1   Result                  2930 non-null   object \n",
      " 2   Avg_team_Age            2930 non-null   float64\n",
      " 3   Match_light_type        2930 non-null   object \n",
      " 4   Match_format            2860 non-null   object \n",
      " 5   Bowlers_in_team         2930 non-null   float64\n",
      " 6   Wicket_keeper_in_team   2930 non-null   int64  \n",
      " 7   All_rounder_in_team     2930 non-null   float64\n",
      " 8   First_selection         2930 non-null   object \n",
      " 9   Opponent                2894 non-null   object \n",
      " 10  Season                  2868 non-null   object \n",
      " 11  Audience_number         2930 non-null   float64\n",
      " 12  Offshore                2930 non-null   object \n",
      " 13  Max_run_scored_1over    2930 non-null   float64\n",
      " 14  Max_wicket_taken_1over  2930 non-null   int64  \n",
      " 15  Extra_bowls_bowled      2930 non-null   float64\n",
      " 16  Min_run_given_1over     2930 non-null   int64  \n",
      " 17  Min_run_scored_1over    2930 non-null   float64\n",
      " 18  Max_run_given_1over     2930 non-null   float64\n",
      " 19  extra_bowls_opponent    2930 non-null   int64  \n",
      " 20  player_highest_run      2930 non-null   float64\n",
      " 21  Players_scored_zero     2930 non-null   int64  \n",
      " 22  player_highest_wicket   2930 non-null   int64  \n",
      "dtypes: float64(9), int64(6), object(8)\n",
      "memory usage: 526.6+ KB\n"
     ]
    }
   ],
   "source": [
    "\n",
    "    \n",
    "    \n",
    "data.info()"
   ]
  },
  {
   "cell_type": "code",
   "execution_count": 66,
   "id": "dfd4d54f",
   "metadata": {},
   "outputs": [],
   "source": [
    "for i in data.columns:\n",
    "    if data[i].dtype ==\"object\":\n",
    "        data[i] =  pd.Categorical(data[i]).codes"
   ]
  },
  {
   "cell_type": "code",
   "execution_count": 67,
   "id": "514ad7c6",
   "metadata": {},
   "outputs": [
    {
     "name": "stdout",
     "output_type": "stream",
     "text": [
      "<class 'pandas.core.frame.DataFrame'>\n",
      "RangeIndex: 2930 entries, 0 to 2929\n",
      "Data columns (total 23 columns):\n",
      " #   Column                  Non-Null Count  Dtype  \n",
      "---  ------                  --------------  -----  \n",
      " 0   Game_number             2930 non-null   int16  \n",
      " 1   Result                  2930 non-null   int8   \n",
      " 2   Avg_team_Age            2930 non-null   float64\n",
      " 3   Match_light_type        2930 non-null   int8   \n",
      " 4   Match_format            2930 non-null   int8   \n",
      " 5   Bowlers_in_team         2930 non-null   float64\n",
      " 6   Wicket_keeper_in_team   2930 non-null   int64  \n",
      " 7   All_rounder_in_team     2930 non-null   float64\n",
      " 8   First_selection         2930 non-null   int8   \n",
      " 9   Opponent                2930 non-null   int8   \n",
      " 10  Season                  2930 non-null   int8   \n",
      " 11  Audience_number         2930 non-null   float64\n",
      " 12  Offshore                2930 non-null   int8   \n",
      " 13  Max_run_scored_1over    2930 non-null   float64\n",
      " 14  Max_wicket_taken_1over  2930 non-null   int64  \n",
      " 15  Extra_bowls_bowled      2930 non-null   float64\n",
      " 16  Min_run_given_1over     2930 non-null   int64  \n",
      " 17  Min_run_scored_1over    2930 non-null   float64\n",
      " 18  Max_run_given_1over     2930 non-null   float64\n",
      " 19  extra_bowls_opponent    2930 non-null   int64  \n",
      " 20  player_highest_run      2930 non-null   float64\n",
      " 21  Players_scored_zero     2930 non-null   int64  \n",
      " 22  player_highest_wicket   2930 non-null   int64  \n",
      "dtypes: float64(9), int16(1), int64(6), int8(7)\n",
      "memory usage: 369.2 KB\n"
     ]
    }
   ],
   "source": [
    "data.info()"
   ]
  },
  {
   "cell_type": "code",
   "execution_count": 68,
   "id": "dc58cfd2",
   "metadata": {},
   "outputs": [],
   "source": [
    "x = data.drop([\"Game_number\",\"Result\"],axis = 1)\n",
    "y = data[\"Result\"]"
   ]
  },
  {
   "cell_type": "code",
   "execution_count": 70,
   "id": "44e7af94",
   "metadata": {},
   "outputs": [
    {
     "ename": "AttributeError",
     "evalue": "'DecisionTreeClassifier' object has no attribute 'best_params'",
     "output_type": "error",
     "traceback": [
      "\u001b[1;31m---------------------------------------------------------------------------\u001b[0m",
      "\u001b[1;31mAttributeError\u001b[0m                            Traceback (most recent call last)",
      "\u001b[1;32m<ipython-input-70-0c5eb75bc418>\u001b[0m in \u001b[0;36m<module>\u001b[1;34m\u001b[0m\n\u001b[1;32m----> 1\u001b[1;33m \u001b[0mdrt\u001b[0m\u001b[1;33m.\u001b[0m\u001b[0mbest_params\u001b[0m\u001b[1;33m\u001b[0m\u001b[1;33m\u001b[0m\u001b[0m\n\u001b[0m",
      "\u001b[1;31mAttributeError\u001b[0m: 'DecisionTreeClassifier' object has no attribute 'best_params'"
     ]
    }
   ],
   "source": [
    "drt."
   ]
  },
  {
   "cell_type": "code",
   "execution_count": null,
   "id": "b4901acd",
   "metadata": {},
   "outputs": [],
   "source": []
  }
 ],
 "metadata": {
  "kernelspec": {
   "display_name": "Python 3",
   "language": "python",
   "name": "python3"
  },
  "language_info": {
   "codemirror_mode": {
    "name": "ipython",
    "version": 3
   },
   "file_extension": ".py",
   "mimetype": "text/x-python",
   "name": "python",
   "nbconvert_exporter": "python",
   "pygments_lexer": "ipython3",
   "version": "3.9.1"
  }
 },
 "nbformat": 4,
 "nbformat_minor": 5
}
